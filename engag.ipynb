{
 "cells": [
  {
   "cell_type": "markdown",
   "id": "96b74d23-676f-49ce-bfe8-a1a5d83e8dfe",
   "metadata": {},
   "source": [
    "# Parents engagement Dashboard"
   ]
  },
  {
   "cell_type": "code",
   "execution_count": 5,
   "id": "a1f4acaa-bb20-455b-8391-979c0be3a7d7",
   "metadata": {},
   "outputs": [
    {
     "name": "stdout",
     "output_type": "stream",
     "text": [
      "Downloading from https://www.kaggle.com/api/v1/datasets/download/lainguyn123/student-performance-factors?dataset_version_number=8...\n"
     ]
    },
    {
     "name": "stderr",
     "output_type": "stream",
     "text": [
      "100%|███████████████████████████████████████████████████████████████████████████████████████████| 93.9k/93.9k [00:00<00:00, 293kB/s]"
     ]
    },
    {
     "name": "stdout",
     "output_type": "stream",
     "text": [
      "Extracting files...\n",
      "Path to dataset files: C:\\Users\\RAISSA\\.cache\\kagglehub\\datasets\\lainguyn123\\student-performance-factors\\versions\\8\n"
     ]
    },
    {
     "name": "stderr",
     "output_type": "stream",
     "text": [
      "\n"
     ]
    }
   ],
   "source": [
    "import kagglehub\n",
    "\n",
    "# Download latest version\n",
    "path = kagglehub.dataset_download(\"lainguyn123/student-performance-factors\")\n",
    "\n",
    "print(\"Path to dataset files:\", path)"
   ]
  },
  {
   "cell_type": "code",
   "execution_count": 21,
   "id": "3b95bcda-ea25-4b77-bb9c-8931bf76fd04",
   "metadata": {},
   "outputs": [
    {
     "data": {
      "text/html": [
       "<div>\n",
       "<style scoped>\n",
       "    .dataframe tbody tr th:only-of-type {\n",
       "        vertical-align: middle;\n",
       "    }\n",
       "\n",
       "    .dataframe tbody tr th {\n",
       "        vertical-align: top;\n",
       "    }\n",
       "\n",
       "    .dataframe thead th {\n",
       "        text-align: right;\n",
       "    }\n",
       "</style>\n",
       "<table border=\"1\" class=\"dataframe\">\n",
       "  <thead>\n",
       "    <tr style=\"text-align: right;\">\n",
       "      <th></th>\n",
       "      <th>Hours_Studied</th>\n",
       "      <th>Attendance</th>\n",
       "      <th>Sleep_Hours</th>\n",
       "      <th>Previous_Scores</th>\n",
       "      <th>Tutoring_Sessions</th>\n",
       "      <th>Physical_Activity</th>\n",
       "      <th>Exam_Score</th>\n",
       "    </tr>\n",
       "  </thead>\n",
       "  <tbody>\n",
       "    <tr>\n",
       "      <th>count</th>\n",
       "      <td>6378.000000</td>\n",
       "      <td>6378.000000</td>\n",
       "      <td>6378.000000</td>\n",
       "      <td>6378.000000</td>\n",
       "      <td>6378.000000</td>\n",
       "      <td>6378.000000</td>\n",
       "      <td>6378.000000</td>\n",
       "    </tr>\n",
       "    <tr>\n",
       "      <th>mean</th>\n",
       "      <td>19.977109</td>\n",
       "      <td>80.020853</td>\n",
       "      <td>7.034964</td>\n",
       "      <td>75.066165</td>\n",
       "      <td>1.495296</td>\n",
       "      <td>2.972719</td>\n",
       "      <td>67.252117</td>\n",
       "    </tr>\n",
       "    <tr>\n",
       "      <th>std</th>\n",
       "      <td>5.985460</td>\n",
       "      <td>11.550723</td>\n",
       "      <td>1.468033</td>\n",
       "      <td>14.400389</td>\n",
       "      <td>1.233984</td>\n",
       "      <td>1.028926</td>\n",
       "      <td>3.914217</td>\n",
       "    </tr>\n",
       "    <tr>\n",
       "      <th>min</th>\n",
       "      <td>1.000000</td>\n",
       "      <td>60.000000</td>\n",
       "      <td>4.000000</td>\n",
       "      <td>50.000000</td>\n",
       "      <td>0.000000</td>\n",
       "      <td>0.000000</td>\n",
       "      <td>55.000000</td>\n",
       "    </tr>\n",
       "    <tr>\n",
       "      <th>25%</th>\n",
       "      <td>16.000000</td>\n",
       "      <td>70.000000</td>\n",
       "      <td>6.000000</td>\n",
       "      <td>63.000000</td>\n",
       "      <td>1.000000</td>\n",
       "      <td>2.000000</td>\n",
       "      <td>65.000000</td>\n",
       "    </tr>\n",
       "    <tr>\n",
       "      <th>50%</th>\n",
       "      <td>20.000000</td>\n",
       "      <td>80.000000</td>\n",
       "      <td>7.000000</td>\n",
       "      <td>75.000000</td>\n",
       "      <td>1.000000</td>\n",
       "      <td>3.000000</td>\n",
       "      <td>67.000000</td>\n",
       "    </tr>\n",
       "    <tr>\n",
       "      <th>75%</th>\n",
       "      <td>24.000000</td>\n",
       "      <td>90.000000</td>\n",
       "      <td>8.000000</td>\n",
       "      <td>88.000000</td>\n",
       "      <td>2.000000</td>\n",
       "      <td>4.000000</td>\n",
       "      <td>69.000000</td>\n",
       "    </tr>\n",
       "    <tr>\n",
       "      <th>max</th>\n",
       "      <td>44.000000</td>\n",
       "      <td>100.000000</td>\n",
       "      <td>10.000000</td>\n",
       "      <td>100.000000</td>\n",
       "      <td>8.000000</td>\n",
       "      <td>6.000000</td>\n",
       "      <td>101.000000</td>\n",
       "    </tr>\n",
       "  </tbody>\n",
       "</table>\n",
       "</div>"
      ],
      "text/plain": [
       "       Hours_Studied   Attendance  Sleep_Hours  Previous_Scores  \\\n",
       "count    6378.000000  6378.000000  6378.000000      6378.000000   \n",
       "mean       19.977109    80.020853     7.034964        75.066165   \n",
       "std         5.985460    11.550723     1.468033        14.400389   \n",
       "min         1.000000    60.000000     4.000000        50.000000   \n",
       "25%        16.000000    70.000000     6.000000        63.000000   \n",
       "50%        20.000000    80.000000     7.000000        75.000000   \n",
       "75%        24.000000    90.000000     8.000000        88.000000   \n",
       "max        44.000000   100.000000    10.000000       100.000000   \n",
       "\n",
       "       Tutoring_Sessions  Physical_Activity   Exam_Score  \n",
       "count        6378.000000        6378.000000  6378.000000  \n",
       "mean            1.495296           2.972719    67.252117  \n",
       "std             1.233984           1.028926     3.914217  \n",
       "min             0.000000           0.000000    55.000000  \n",
       "25%             1.000000           2.000000    65.000000  \n",
       "50%             1.000000           3.000000    67.000000  \n",
       "75%             2.000000           4.000000    69.000000  \n",
       "max             8.000000           6.000000   101.000000  "
      ]
     },
     "execution_count": 21,
     "metadata": {},
     "output_type": "execute_result"
    }
   ],
   "source": [
    "import pandas as pd\n",
    "import numpy as np\n",
    "\n",
    "df = pd.read_csv('student_performance_cleaned.csv')\n",
    "\n",
    "\n",
    "df.describe()"
   ]
  },
  {
   "cell_type": "code",
   "execution_count": 19,
   "id": "2cc051c8-34de-4325-900c-d9072842518a",
   "metadata": {},
   "outputs": [
    {
     "name": "stdout",
     "output_type": "stream",
     "text": [
      "<class 'pandas.core.frame.DataFrame'>\n",
      "RangeIndex: 6378 entries, 0 to 6377\n",
      "Data columns (total 20 columns):\n",
      " #   Column                      Non-Null Count  Dtype \n",
      "---  ------                      --------------  ----- \n",
      " 0   Hours_Studied               6378 non-null   int64 \n",
      " 1   Attendance                  6378 non-null   int64 \n",
      " 2   Parental_Involvement        6378 non-null   object\n",
      " 3   Access_to_Resources         6378 non-null   object\n",
      " 4   Extracurricular_Activities  6378 non-null   object\n",
      " 5   Sleep_Hours                 6378 non-null   int64 \n",
      " 6   Previous_Scores             6378 non-null   int64 \n",
      " 7   Motivation_Level            6378 non-null   object\n",
      " 8   Internet_Access             6378 non-null   object\n",
      " 9   Tutoring_Sessions           6378 non-null   int64 \n",
      " 10  Family_Income               6378 non-null   object\n",
      " 11  Teacher_Quality             6378 non-null   object\n",
      " 12  School_Type                 6378 non-null   object\n",
      " 13  Peer_Influence              6378 non-null   object\n",
      " 14  Physical_Activity           6378 non-null   int64 \n",
      " 15  Learning_Disabilities       6378 non-null   object\n",
      " 16  Parental_Education_Level    6378 non-null   object\n",
      " 17  Distance_from_Home          6378 non-null   object\n",
      " 18  Gender                      6378 non-null   object\n",
      " 19  Exam_Score                  6378 non-null   int64 \n",
      "dtypes: int64(7), object(13)\n",
      "memory usage: 996.7+ KB\n"
     ]
    }
   ],
   "source": [
    "df.info()"
   ]
  },
  {
   "cell_type": "code",
   "execution_count": 15,
   "id": "25ff5832-3ebe-4618-b5d5-c8c9f331c6a1",
   "metadata": {},
   "outputs": [
    {
     "name": "stdout",
     "output_type": "stream",
     "text": [
      "Cleaned data saved to 'student_performance_cleaned.csv'\n"
     ]
    }
   ],
   "source": [
    "import pandas as pd\n",
    "\n",
    "df = pd.read_csv('StudentPerformanceFactors.csv')\n",
    "\n",
    "# Drop rows with any missing values\n",
    "df_cleaned = df.dropna().copy()\n",
    "\n",
    "df_cleaned.to_csv('student_performance_cleaned.csv', index=False)\n",
    "\n",
    "print(\"Cleaned data saved to 'student_performance_cleaned.csv'\")"
   ]
  },
  {
   "cell_type": "code",
   "execution_count": null,
   "id": "e70d46aa-ca69-40a9-9b59-664f3b2cb04d",
   "metadata": {},
   "outputs": [],
   "source": []
  }
 ],
 "metadata": {
  "kernelspec": {
   "display_name": "Python 3 (ipykernel)",
   "language": "python",
   "name": "python3"
  },
  "language_info": {
   "codemirror_mode": {
    "name": "ipython",
    "version": 3
   },
   "file_extension": ".py",
   "mimetype": "text/x-python",
   "name": "python",
   "nbconvert_exporter": "python",
   "pygments_lexer": "ipython3",
   "version": "3.12.4"
  }
 },
 "nbformat": 4,
 "nbformat_minor": 5
}
